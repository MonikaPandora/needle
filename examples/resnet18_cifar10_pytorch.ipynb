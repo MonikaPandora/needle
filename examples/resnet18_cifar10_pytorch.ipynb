{
  "cells": [
    {
      "cell_type": "code",
      "source": [
        "from google.colab import drive\n",
        "drive.mount('/content/drive')\n",
        "%cd /content/drive/MyDrive/needle"
      ],
      "metadata": {
        "colab": {
          "base_uri": "https://localhost:8080/"
        },
        "id": "akabJrgvJWx-",
        "outputId": "8d32a593-4853-45a5-c083-8afa28f973c1"
      },
      "execution_count": 7,
      "outputs": [
        {
          "output_type": "stream",
          "name": "stdout",
          "text": [
            "Drive already mounted at /content/drive; to attempt to forcibly remount, call drive.mount(\"/content/drive\", force_remount=True).\n",
            "/content/drive/MyDrive/needle\n"
          ]
        }
      ]
    },
    {
      "cell_type": "code",
      "source": [],
      "metadata": {
        "id": "Zg2ZUXcQJtaP"
      },
      "execution_count": null,
      "outputs": []
    },
    {
      "cell_type": "code",
      "execution_count": 21,
      "metadata": {
        "execution": {
          "iopub.execute_input": "2024-04-19T10:42:01.871399Z",
          "iopub.status.busy": "2024-04-19T10:42:01.871008Z",
          "iopub.status.idle": "2024-04-19T10:42:06.004529Z",
          "shell.execute_reply": "2024-04-19T10:42:06.003391Z",
          "shell.execute_reply.started": "2024-04-19T10:42:01.871358Z"
        },
        "trusted": true,
        "id": "ZvQLD84zwxid"
      },
      "outputs": [],
      "source": [
        "import numpy as np\n",
        "import torch\n",
        "import torch.nn as nn\n",
        "from torch.utils.data import Dataset, DataLoader\n",
        "from tqdm import tqdm"
      ]
    },
    {
      "cell_type": "code",
      "execution_count": 22,
      "metadata": {
        "execution": {
          "iopub.execute_input": "2024-04-19T10:42:06.040521Z",
          "iopub.status.busy": "2024-04-19T10:42:06.040188Z",
          "iopub.status.idle": "2024-04-19T10:42:06.138458Z",
          "shell.execute_reply": "2024-04-19T10:42:06.137439Z",
          "shell.execute_reply.started": "2024-04-19T10:42:06.040487Z"
        },
        "trusted": true,
        "id": "HK5MlVI2wxie",
        "colab": {
          "base_uri": "https://localhost:8080/"
        },
        "outputId": "7bed76bf-20c4-4756-d456-9e94229885f5"
      },
      "outputs": [
        {
          "output_type": "stream",
          "name": "stdout",
          "text": [
            "cuda\n"
          ]
        }
      ],
      "source": [
        "device = torch.device(\"cuda\")\n",
        "print(device)"
      ]
    },
    {
      "cell_type": "markdown",
      "metadata": {
        "id": "gdw7d_Qlwxie"
      },
      "source": [
        "#### **数据集 (CIFAR10Dataset)**"
      ]
    },
    {
      "cell_type": "code",
      "execution_count": 23,
      "metadata": {
        "id": "Ndf4_QFawxie"
      },
      "outputs": [],
      "source": [
        "import urllib.request\n",
        "import os\n",
        "\n",
        "!mkdir -p './data/ptb'\n",
        "\n",
        "# Download CIFAR-10 dataset\n",
        "if not os.path.isdir(\"./data/cifar-10-batches-py\"):\n",
        "    urllib.request.urlretrieve(\"https://www.cs.toronto.edu/~kriz/cifar-10-python.tar.gz\", \"./data/cifar-10-python.tar.gz\")\n",
        "    !tar -xvzf './data/cifar-10-python.tar.gz' -C './data'"
      ]
    },
    {
      "cell_type": "markdown",
      "source": [
        "## 定义DataSet"
      ],
      "metadata": {
        "id": "CEgRtKOvKDgi"
      }
    },
    {
      "cell_type": "code",
      "source": [
        "class CIFAR10Dataset(Dataset):\n",
        "    def __init__(\n",
        "        self,\n",
        "        base_folder: str,\n",
        "        train: bool,\n",
        "    ):\n",
        "        \"\"\"\n",
        "        Parameters:\n",
        "        base_folder - cifar-10-batches-py folder filepath\n",
        "        train - bool, if True load training dataset, else load test dataset\n",
        "        Divide pixel values by 255. so that images are in 0-1 range.\n",
        "        Attributes:\n",
        "        X - numpy array of images\n",
        "        y - numpy array of labels\n",
        "        \"\"\"\n",
        "        import pickle\n",
        "        import os\n",
        "        if train:\n",
        "            Xs = []\n",
        "            ys = []\n",
        "            for i in range(1, 6):\n",
        "                with open(os.path.join(base_folder, f'data_batch_{i}'), 'rb') as f:\n",
        "                    datas = pickle.load(f, encoding='bytes')\n",
        "                    Xs.append(datas[b'data'])\n",
        "                    ys += datas[b'labels']\n",
        "            self.X = np.concatenate(Xs, axis=0).reshape((-1, 3, 32, 32)).transpose((0, 2, 3, 1)) / 255.\n",
        "            self.y = np.array(ys, dtype=np.uint8)\n",
        "        else:\n",
        "            with open(os.path.join(base_folder, 'test_batch'), 'rb') as f:\n",
        "                datas = pickle.load(f, encoding='bytes')\n",
        "            self.X = datas[b'data'].reshape((-1, 3, 32, 32)).transpose((0, 2, 3, 1)) / 255.\n",
        "            self.y = np.array(datas[b'labels'], dtype=np.uint8)\n",
        "\n",
        "\n",
        "    def __getitem__(self, index):\n",
        "        \"\"\"\n",
        "        Returns the image, label at given index\n",
        "        Image should be of shape (3, 32, 32)\n",
        "        \"\"\"\n",
        "        imgs = self.X[index]\n",
        "        if len(imgs.shape) == 4:\n",
        "            return imgs.transpose((0, 3, 1, 2)).astype(np.float32), self.y[index]\n",
        "        else:\n",
        "            return imgs.transpose((2, 0, 1)).astype(np.float32), self.y[index]\n",
        "\n",
        "\n",
        "    def __len__(self) -> int:\n",
        "        \"\"\"\n",
        "        Returns the total number of examples in the dataset\n",
        "        \"\"\"\n",
        "        return self.y.shape[0]"
      ],
      "metadata": {
        "id": "MoFX406LKAlT"
      },
      "execution_count": 40,
      "outputs": []
    },
    {
      "cell_type": "markdown",
      "metadata": {
        "id": "he2EjyPiwxie"
      },
      "source": [
        "#### **定义 DataLoader**"
      ]
    },
    {
      "cell_type": "code",
      "execution_count": 41,
      "metadata": {
        "execution": {
          "iopub.execute_input": "2024-04-19T10:42:09.821692Z",
          "iopub.status.busy": "2024-04-19T10:42:09.820698Z",
          "iopub.status.idle": "2024-04-19T10:42:09.827959Z",
          "shell.execute_reply": "2024-04-19T10:42:09.827020Z",
          "shell.execute_reply.started": "2024-04-19T10:42:09.821658Z"
        },
        "trusted": true,
        "id": "P6HlM7zMwxif"
      },
      "outputs": [],
      "source": [
        "batch_size = 128\n",
        "\n",
        "train_dataset = CIFAR10Dataset(\"data/cifar-10-batches-py\", train=True)\n",
        "test_dataset = CIFAR10Dataset(\"data/cifar-10-batches-py\", train=False)\n",
        "\n",
        "train_loader = DataLoader(train_dataset, batch_size=batch_size, shuffle=True)\n",
        "test_loader = DataLoader(test_dataset, batch_size=batch_size, shuffle=False)"
      ]
    },
    {
      "cell_type": "markdown",
      "metadata": {
        "id": "iNqBQHIowxif"
      },
      "source": [
        "### 使用needle定义模型"
      ]
    },
    {
      "cell_type": "code",
      "execution_count": 52,
      "metadata": {
        "execution": {
          "iopub.execute_input": "2024-04-19T10:42:09.830063Z",
          "iopub.status.busy": "2024-04-19T10:42:09.829588Z",
          "iopub.status.idle": "2024-04-19T10:42:09.845040Z",
          "shell.execute_reply": "2024-04-19T10:42:09.843941Z",
          "shell.execute_reply.started": "2024-04-19T10:42:09.830031Z"
        },
        "trusted": true,
        "id": "DcSoKlMmwxif"
      },
      "outputs": [],
      "source": [
        "class ConvBN(nn.Module):\n",
        "    def __init__(self, a, b, k, s, p=1) -> None:\n",
        "        super().__init__()\n",
        "        self.a = a\n",
        "        self.b = b\n",
        "        self.k = k\n",
        "        self.s = s\n",
        "\n",
        "        self.conv2d = nn.Conv2d(a, b, kernel_size=k, stride=s, padding=p)\n",
        "        self.batch_norm = nn.BatchNorm2d(b)\n",
        "        self.relu = nn.ReLU()\n",
        "\n",
        "    def forward(self, x):\n",
        "        x = self.conv2d(x)\n",
        "        x = self.batch_norm(x)\n",
        "        return self.relu(x)\n",
        "\n",
        "\n",
        "## currently not implement pooling\n",
        "## replace pooling with striding\n",
        "class ResNet18(nn.Module):\n",
        "    def __init__(self, num_classes):\n",
        "        super().__init__()\n",
        "        self.layer1 = nn.Sequential(\n",
        "            ConvBN(3, 64, 7, 4),\n",
        "            ConvBN(64, 128, 3, 2),\n",
        "        )\n",
        "        self.layer2 = nn.Sequential(\n",
        "            ConvBN(128, 128, 3, 1),\n",
        "            ConvBN(128, 128, 3, 1),\n",
        "        )\n",
        "        self.layer3 = nn.Sequential(\n",
        "            ConvBN(128, 256, 3, 2),\n",
        "            ConvBN(256, 512, 3, 2),\n",
        "        )\n",
        "        self.layer4 = nn.Sequential(\n",
        "            ConvBN(512, 512, 3, 1),\n",
        "            ConvBN(512, 512, 3, 1),\n",
        "        )\n",
        "        self.linear1 = nn.Linear(512, num_classes)\n",
        "\n",
        "    def forward(self, x):\n",
        "        x = self.layer1(x)\n",
        "        x = self.layer2(x) + x\n",
        "        x = self.layer3(x)\n",
        "        x = self.layer4(x) + x\n",
        "        x = nn.Flatten()(x)\n",
        "        x = self.linear1(x)\n",
        "        return x"
      ]
    },
    {
      "cell_type": "markdown",
      "metadata": {
        "id": "h5oIxvoAwxif"
      },
      "source": [
        "## 训练和测试\n",
        "\n",
        "### 超参数设置"
      ]
    },
    {
      "cell_type": "code",
      "execution_count": 53,
      "metadata": {
        "execution": {
          "iopub.execute_input": "2024-04-19T10:42:10.118508Z",
          "iopub.status.busy": "2024-04-19T10:42:10.118196Z",
          "iopub.status.idle": "2024-04-19T10:42:10.481811Z",
          "shell.execute_reply": "2024-04-19T10:42:10.480854Z",
          "shell.execute_reply.started": "2024-04-19T10:42:10.118476Z"
        },
        "trusted": true,
        "id": "Odklsy0Iwxig"
      },
      "outputs": [],
      "source": [
        "num_classes = 10\n",
        "num_epochs = 10\n",
        "learning_rate = 1e-4\n",
        "\n",
        "model = ResNet18(num_classes=num_classes)\n",
        "model.to(device)\n",
        "\n",
        "criterion = nn.CrossEntropyLoss()\n",
        "optimizer = torch.optim.Adam(model.parameters(), lr=learning_rate, weight_decay=1e-4)"
      ]
    },
    {
      "cell_type": "markdown",
      "metadata": {
        "id": "Amx4bZkYwxig"
      },
      "source": [
        "### 模型训练\n"
      ]
    },
    {
      "cell_type": "code",
      "execution_count": 55,
      "metadata": {
        "execution": {
          "iopub.execute_input": "2024-04-19T10:42:10.483974Z",
          "iopub.status.busy": "2024-04-19T10:42:10.483593Z",
          "iopub.status.idle": "2024-04-19T13:10:35.099758Z",
          "shell.execute_reply": "2024-04-19T13:10:35.098794Z",
          "shell.execute_reply.started": "2024-04-19T10:42:10.483940Z"
        },
        "trusted": true,
        "colab": {
          "base_uri": "https://localhost:8080/"
        },
        "id": "XYS2VEdcwxih",
        "outputId": "ec5d9d9f-eed7-421b-f851-598f00e630f0"
      },
      "outputs": [
        {
          "output_type": "stream",
          "name": "stderr",
          "text": [
            "Train [1/10]: 100%|██████████| 391/391 [01:07<00:00,  5.77it/s, loss=1.48]\n"
          ]
        },
        {
          "output_type": "stream",
          "name": "stdout",
          "text": [
            "Epoch [1/10], Loss: 1.4846\n"
          ]
        },
        {
          "output_type": "stream",
          "name": "stderr",
          "text": [
            "Train [2/10]: 100%|██████████| 391/391 [01:05<00:00,  5.99it/s, loss=1.26]\n"
          ]
        },
        {
          "output_type": "stream",
          "name": "stdout",
          "text": [
            "Epoch [2/10], Loss: 1.2560\n"
          ]
        },
        {
          "output_type": "stream",
          "name": "stderr",
          "text": [
            "Train [3/10]: 100%|██████████| 391/391 [01:04<00:00,  6.02it/s, loss=1.04]\n"
          ]
        },
        {
          "output_type": "stream",
          "name": "stdout",
          "text": [
            "Epoch [3/10], Loss: 1.0415\n"
          ]
        },
        {
          "output_type": "stream",
          "name": "stderr",
          "text": [
            "Train [4/10]: 100%|██████████| 391/391 [01:04<00:00,  6.09it/s, loss=0.849]\n"
          ]
        },
        {
          "output_type": "stream",
          "name": "stdout",
          "text": [
            "Epoch [4/10], Loss: 0.8488\n"
          ]
        },
        {
          "output_type": "stream",
          "name": "stderr",
          "text": [
            "Train [5/10]: 100%|██████████| 391/391 [01:04<00:00,  6.10it/s, loss=0.722]\n"
          ]
        },
        {
          "output_type": "stream",
          "name": "stdout",
          "text": [
            "Epoch [5/10], Loss: 0.7222\n"
          ]
        },
        {
          "output_type": "stream",
          "name": "stderr",
          "text": [
            "Train [6/10]: 100%|██████████| 391/391 [01:03<00:00,  6.11it/s, loss=0.331]\n"
          ]
        },
        {
          "output_type": "stream",
          "name": "stdout",
          "text": [
            "Epoch [6/10], Loss: 0.3314\n"
          ]
        },
        {
          "output_type": "stream",
          "name": "stderr",
          "text": [
            "Train [7/10]: 100%|██████████| 391/391 [01:04<00:00,  6.02it/s, loss=0.204]\n"
          ]
        },
        {
          "output_type": "stream",
          "name": "stdout",
          "text": [
            "Epoch [7/10], Loss: 0.2040\n"
          ]
        },
        {
          "output_type": "stream",
          "name": "stderr",
          "text": [
            "Train [8/10]: 100%|██████████| 391/391 [01:03<00:00,  6.12it/s, loss=0.166]\n"
          ]
        },
        {
          "output_type": "stream",
          "name": "stdout",
          "text": [
            "Epoch [8/10], Loss: 0.1658\n"
          ]
        },
        {
          "output_type": "stream",
          "name": "stderr",
          "text": [
            "Train [9/10]: 100%|██████████| 391/391 [01:03<00:00,  6.12it/s, loss=0.114]\n"
          ]
        },
        {
          "output_type": "stream",
          "name": "stdout",
          "text": [
            "Epoch [9/10], Loss: 0.1141\n"
          ]
        },
        {
          "output_type": "stream",
          "name": "stderr",
          "text": [
            "Train [10/10]: 100%|██████████| 391/391 [01:07<00:00,  5.82it/s, loss=0.227]"
          ]
        },
        {
          "output_type": "stream",
          "name": "stdout",
          "text": [
            "Epoch [10/10], Loss: 0.2267\n"
          ]
        },
        {
          "output_type": "stream",
          "name": "stderr",
          "text": [
            "\n"
          ]
        }
      ],
      "source": [
        "import gc\n",
        "\n",
        "train_loss_lst = []\n",
        "\n",
        "model.train()\n",
        "for epoch in range(num_epochs):\n",
        "    with tqdm(train_loader, desc='Train [{}/{}]'.format(epoch+1, num_epochs), mininterval=1.0) as t:\n",
        "        for batch in t:\n",
        "            images, labels = batch[0].to(device), batch[1].to(device)\n",
        "\n",
        "            optimizer.zero_grad()\n",
        "            outputs = model(images)\n",
        "            loss = criterion(outputs, labels)\n",
        "            loss.backward()\n",
        "            optimizer.step()\n",
        "\n",
        "            train_loss_lst.append(loss.item())\n",
        "            t.set_postfix(loss=loss.item())\n",
        "            del images, labels, outputs\n",
        "            gc.collect()\n",
        "\n",
        "    print ('Epoch [{}/{}], Loss: {:.4f}'\n",
        "                   .format(epoch+1, num_epochs, loss.item()))"
      ]
    },
    {
      "cell_type": "markdown",
      "metadata": {
        "id": "I46l1Z4lwxih"
      },
      "source": [
        "### 训练损失曲线可视化\n"
      ]
    },
    {
      "cell_type": "code",
      "execution_count": 56,
      "metadata": {
        "execution": {
          "iopub.execute_input": "2024-04-19T13:10:35.101615Z",
          "iopub.status.busy": "2024-04-19T13:10:35.101225Z",
          "iopub.status.idle": "2024-04-19T13:10:35.111299Z",
          "shell.execute_reply": "2024-04-19T13:10:35.110255Z",
          "shell.execute_reply.started": "2024-04-19T13:10:35.101578Z"
        },
        "trusted": true,
        "id": "9m7cQBIcwxih"
      },
      "outputs": [],
      "source": [
        "import matplotlib.pyplot as plt\n",
        "\n",
        "\n",
        "def learning_curve(train_loss_lst, num_epochs, _ylabel1='train loss', smooth_factor=10):\n",
        "    \"\"\"\n",
        "    Args:\n",
        "        smooth_factor: 平滑因子，只能取正整数。平滑因子越大，损失曲线越平滑\n",
        "    \"\"\"\n",
        "\n",
        "    assert smooth_factor > 0 and type(smooth_factor) == int\n",
        "\n",
        "    fig, ax1 = plt.subplots()\n",
        "    color = 'tab:blue'\n",
        "    ax1.set_xlabel('steps')\n",
        "    ax1.set_ylabel(_ylabel1, color=color)\n",
        "    train_loss_x = list(range(len(train_loss_lst)))\n",
        "    ax1.plot(train_loss_x[::smooth_factor], train_loss_lst[::smooth_factor], color=color)\n",
        "    ax1.tick_params(axis='y', labelcolor=color)\n",
        "\n",
        "    fig.tight_layout()\n",
        "    plt.show()\n"
      ]
    },
    {
      "cell_type": "code",
      "execution_count": 57,
      "metadata": {
        "execution": {
          "iopub.execute_input": "2024-04-19T13:10:35.112691Z",
          "iopub.status.busy": "2024-04-19T13:10:35.112416Z",
          "iopub.status.idle": "2024-04-19T13:10:35.574923Z",
          "shell.execute_reply": "2024-04-19T13:10:35.573975Z",
          "shell.execute_reply.started": "2024-04-19T13:10:35.112666Z"
        },
        "trusted": true,
        "id": "KJjobnsJwxih",
        "colab": {
          "base_uri": "https://localhost:8080/",
          "height": 504
        },
        "outputId": "3e607e85-abe2-4027-f828-f79cc6182c90"
      },
      "outputs": [
        {
          "output_type": "stream",
          "name": "stdout",
          "text": [
            "========================= LEARNING CURVE =======================\n"
          ]
        },
        {
          "output_type": "display_data",
          "data": {
            "text/plain": [
              "<Figure size 640x480 with 1 Axes>"
            ],
            "image/png": "[encoded data removed]"
          },
          "metadata": {}
        }
      ],
      "source": [
        "print('========================= LEARNING CURVE =======================')\n",
        "learning_curve(train_loss_lst, num_epochs, smooth_factor=3)"
      ]
    },
    {
      "cell_type": "markdown",
      "metadata": {
        "id": "1m7_n6Otwxih"
      },
      "source": [
        "### 模型测试"
      ]
    },
    {
      "cell_type": "code",
      "source": [
        "model.eval()\n",
        "correct = 0\n",
        "total = 0\n",
        "for images, labels in tqdm(train_loader, desc='Test', mininterval=1.0):\n",
        "    images = images.to(device)\n",
        "    labels = labels.to(device)\n",
        "    outputs = model(images)\n",
        "\n",
        "    pred = np.argmax(outputs.cpu().detach().numpy(), axis=1)\n",
        "\n",
        "    total += labels.shape[0]\n",
        "    correct += (pred == labels.cpu().detach().numpy()).sum().item()\n",
        "    del images, labels, outputs\n",
        "\n",
        "print('Accuracy of the network on the {} train images: {:.4f} %'.format(len(train_dataset), 100 * correct / total))"
      ],
      "metadata": {
        "colab": {
          "base_uri": "https://localhost:8080/"
        },
        "id": "eD8vSORzCvth",
        "outputId": "78e1763b-b02a-4e50-eff9-64e743ce7b25"
      },
      "execution_count": 61,
      "outputs": [
        {
          "output_type": "stream",
          "name": "stderr",
          "text": [
            "Test: 100%|██████████| 391/391 [00:01<00:00, 214.38it/s]"
          ]
        },
        {
          "output_type": "stream",
          "name": "stdout",
          "text": [
            "Accuracy of the network on the 50000 train images: 94.4500 %\n"
          ]
        },
        {
          "output_type": "stream",
          "name": "stderr",
          "text": [
            "\n"
          ]
        }
      ]
    },
    {
      "cell_type": "code",
      "execution_count": 63,
      "metadata": {
        "execution": {
          "iopub.execute_input": "2024-04-19T13:10:35.576636Z",
          "iopub.status.busy": "2024-04-19T13:10:35.576251Z",
          "iopub.status.idle": "2024-04-19T13:10:45.195691Z",
          "shell.execute_reply": "2024-04-19T13:10:45.194832Z",
          "shell.execute_reply.started": "2024-04-19T13:10:35.576601Z"
        },
        "trusted": true,
        "id": "2s6Scny5wxih",
        "colab": {
          "base_uri": "https://localhost:8080/"
        },
        "outputId": "73d71158-c42a-4776-9882-e9d3c2bea262"
      },
      "outputs": [
        {
          "output_type": "stream",
          "name": "stderr",
          "text": [
            "Test: 100%|██████████| 79/79 [00:00<00:00, 129.55it/s]"
          ]
        },
        {
          "output_type": "stream",
          "name": "stdout",
          "text": [
            "Accuracy of the network on the 10000 test images: 52.9300 %\n"
          ]
        },
        {
          "output_type": "stream",
          "name": "stderr",
          "text": [
            "\n"
          ]
        }
      ],
      "source": [
        "model.eval()\n",
        "correct = 0\n",
        "total = 0\n",
        "for images, labels in tqdm(test_loader, desc='Test', mininterval=1.0):\n",
        "    images = images.to(device)\n",
        "    labels = labels.to(device)\n",
        "    outputs = model(images)\n",
        "\n",
        "    pred = np.argmax(outputs.cpu().detach().numpy(), axis=1)\n",
        "\n",
        "    total += labels.shape[0]\n",
        "    correct += (pred == labels.cpu().detach().numpy()).sum().item()\n",
        "    del images, labels, outputs\n",
        "\n",
        "print('Accuracy of the network on the {} test images: {:.4f} %'.format(len(test_dataset), 100 * correct / total))"
      ]
    },
    {
      "cell_type": "code",
      "source": [],
      "metadata": {
        "id": "zayx9uI-Bmhj"
      },
      "execution_count": null,
      "outputs": []
    }
  ],
  "metadata": {
    "kaggle": {
      "accelerator": "nvidiaTeslaT4",
      "dataSources": [
        {
          "datasetId": 59760,
          "sourceId": 840806,
          "sourceType": "datasetVersion"
        }
      ],
      "dockerImageVersionId": 30559,
      "isGpuEnabled": true,
      "isInternetEnabled": false,
      "language": "python",
      "sourceType": "notebook"
    },
    "kernelspec": {
      "display_name": "Python 3",
      "name": "python3"
    },
    "language_info": {
      "codemirror_mode": {
        "name": "ipython",
        "version": 3
      },
      "file_extension": ".py",
      "mimetype": "text/x-python",
      "name": "python",
      "nbconvert_exporter": "python",
      "pygments_lexer": "ipython3",
      "version": "3.10.12"
    },
    "colab": {
      "provenance": [],
      "gpuType": "T4"
    },
    "accelerator": "GPU"
  },
  "nbformat": 4,
  "nbformat_minor": 0
}