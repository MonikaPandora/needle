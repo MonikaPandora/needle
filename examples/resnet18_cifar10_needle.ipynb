{
  "cells": [
    {
      "cell_type": "markdown",
      "metadata": {
        "id": "BsMlGXDawxiZ"
      },
      "source": [
        "## setup"
      ]
    },
    {
      "cell_type": "code",
      "execution_count": 1,
      "metadata": {
        "colab": {
          "base_uri": "https://localhost:8080/"
        },
        "id": "rC8Xlf5Swxib",
        "outputId": "4c0cb23d-b737-4879-d834-fa77055b058d"
      },
      "outputs": [
        {
          "name": "stdout",
          "output_type": "stream",
          "text": [
            "Mounted at /content/drive\n",
            "/content/drive/MyDrive/needle\n",
            "Collecting pybind11\n",
            "  Downloading pybind11-2.12.0-py3-none-any.whl (234 kB)\n",
            "\u001b[2K     \u001b[90m━━━━━━━━━━━━━━━━━━━━━━━━━━━━━━━━━━━━━━━━\u001b[0m \u001b[32m235.0/235.0 kB\u001b[0m \u001b[31m6.5 MB/s\u001b[0m eta \u001b[36m0:00:00\u001b[0m\n",
            "\u001b[?25hInstalling collected packages: pybind11\n",
            "Successfully installed pybind11-2.12.0\n",
            "-- Found pybind11: /usr/local/lib/python3.10/dist-packages/pybind11/include (found version \"2.12.0\")\n",
            "-- Found cuda, building cuda backend\n",
            "Thu May  2 10:29:09 2024       \n",
            "+---------------------------------------------------------------------------------------+\n",
            "| NVIDIA-SMI 535.104.05             Driver Version: 535.104.05   CUDA Version: 12.2     |\n",
            "|-----------------------------------------+----------------------+----------------------+\n",
            "| GPU  Name                 Persistence-M | Bus-Id        Disp.A | Volatile Uncorr. ECC |\n",
            "| Fan  Temp   Perf          Pwr:Usage/Cap |         Memory-Usage | GPU-Util  Compute M. |\n",
            "|                                         |                      |               MIG M. |\n",
            "|=========================================+======================+======================|\n",
            "|   0  Tesla T4                       Off | 00000000:00:04.0 Off |                    0 |\n",
            "| N/A   42C    P8              11W /  70W |      0MiB / 15360MiB |      0%      Default |\n",
            "|                                         |                      |                  N/A |\n",
            "+-----------------------------------------+----------------------+----------------------+\n",
            "                                                                                         \n",
            "+---------------------------------------------------------------------------------------+\n",
            "| Processes:                                                                            |\n",
            "|  GPU   GI   CI        PID   Type   Process name                            GPU Memory |\n",
            "|        ID   ID                                                             Usage      |\n",
            "|=======================================================================================|\n",
            "|  No running processes found                                                           |\n",
            "+---------------------------------------------------------------------------------------+\n",
            "-- Autodetected CUDA architecture(s):  7.5\n",
            "-- Configuring done (5.9s)\n",
            "-- Generating done (11.9s)\n",
            "-- Build files have been written to: /content/drive/MyDrive/needle/build\n",
            "make[1]: Entering directory '/content/drive/MyDrive/needle/build'\n",
            "make[2]: Entering directory '/content/drive/MyDrive/needle/build'\n",
            "make[3]: Entering directory '/content/drive/MyDrive/needle/build'\n",
            "make[3]: Leaving directory '/content/drive/MyDrive/needle/build'\n",
            "make[3]: Entering directory '/content/drive/MyDrive/needle/build'\n",
            "[-25%] \u001b[32mBuilding CXX object CMakeFiles/ndarray_backend_cpu.dir/src/ndarray_backend_cpu.cc.o\u001b[0m\n",
            "[  0%] \u001b[32m\u001b[1mLinking CXX shared module /content/drive/MyDrive/needle/python/needle/backend_ndarray/ndarray_backend_cpu.cpython-310-x86_64-linux-gnu.so\u001b[0m\n",
            "make[3]: Leaving directory '/content/drive/MyDrive/needle/build'\n",
            "[  0%] Built target ndarray_backend_cpu\n",
            "make[3]: Entering directory '/content/drive/MyDrive/needle/build'\n",
            "[ 25%] \u001b[34m\u001b[1mBuilding NVCC (Device) object CMakeFiles/ndarray_backend_cuda.dir/src/ndarray_backend_cuda_generated_ndarray_backend_cuda.cu.o\u001b[0m\n",
            "make[3]: Leaving directory '/content/drive/MyDrive/needle/build'\n",
            "make[3]: Entering directory '/content/drive/MyDrive/needle/build'\n",
            "[ 50%] \u001b[32m\u001b[1mLinking CXX shared module /content/drive/MyDrive/needle/python/needle/backend_ndarray/ndarray_backend_cuda.cpython-310-x86_64-linux-gnu.so\u001b[0m\n",
            "make[3]: Leaving directory '/content/drive/MyDrive/needle/build'\n",
            "[ 50%] Built target ndarray_backend_cuda\n",
            "make[2]: Leaving directory '/content/drive/MyDrive/needle/build'\n",
            "make[1]: Leaving directory '/content/drive/MyDrive/needle/build'\n"
          ]
        }
      ],
      "source": [
        "from google.colab import drive\n",
        "drive.mount('/content/drive')\n",
        "%cd /content/drive/MyDrive/needle\n",
        "!pip install pybind11\n",
        "!make"
      ]
    },
    {
      "cell_type": "code",
      "execution_count": 2,
      "metadata": {
        "colab": {
          "base_uri": "https://localhost:8080/"
        },
        "id": "9Ic-q5lVwxid",
        "outputId": "ba386df8-8ec8-483f-acaa-3f88e1574c33"
      },
      "outputs": [
        {
          "name": "stdout",
          "output_type": "stream",
          "text": [
            "env: PYTHONPATH=./python\n",
            "env: NEEDLE_BACKEND=nd\n"
          ]
        }
      ],
      "source": [
        "%set_env PYTHONPATH ./python\n",
        "%set_env NEEDLE_BACKEND nd\n",
        "\n",
        "import sys\n",
        "sys.path.append('./python')"
      ]
    },
    {
      "cell_type": "code",
      "execution_count": 3,
      "metadata": {
        "colab": {
          "base_uri": "https://localhost:8080/"
        },
        "execution": {
          "iopub.execute_input": "2024-04-19T10:42:01.871399Z",
          "iopub.status.busy": "2024-04-19T10:42:01.871008Z",
          "iopub.status.idle": "2024-04-19T10:42:06.004529Z",
          "shell.execute_reply": "2024-04-19T10:42:06.003391Z",
          "shell.execute_reply.started": "2024-04-19T10:42:01.871358Z"
        },
        "id": "ZvQLD84zwxid",
        "outputId": "3a7a1e53-389f-4a87-d32a-50d6b422f9a2",
        "trusted": true
      },
      "outputs": [
        {
          "name": "stdout",
          "output_type": "stream",
          "text": [
            "Using needle backend\n"
          ]
        }
      ],
      "source": [
        "import numpy as np\n",
        "import needle\n",
        "import needle.nn as nn\n",
        "from needle.data import Dataset, DataLoader\n",
        "from tqdm import tqdm"
      ]
    },
    {
      "cell_type": "markdown",
      "metadata": {
        "id": "7eQYKkqmwxid"
      },
      "source": [
        "## 使用cuda作为NDArray的后端"
      ]
    },
    {
      "cell_type": "code",
      "execution_count": 4,
      "metadata": {
        "colab": {
          "base_uri": "https://localhost:8080/"
        },
        "execution": {
          "iopub.execute_input": "2024-04-19T10:42:06.040521Z",
          "iopub.status.busy": "2024-04-19T10:42:06.040188Z",
          "iopub.status.idle": "2024-04-19T10:42:06.138458Z",
          "shell.execute_reply": "2024-04-19T10:42:06.137439Z",
          "shell.execute_reply.started": "2024-04-19T10:42:06.040487Z"
        },
        "id": "HK5MlVI2wxie",
        "outputId": "8493adf5-8e96-4fc0-ede0-5d14dbf1da84",
        "trusted": true
      },
      "outputs": [
        {
          "name": "stdout",
          "output_type": "stream",
          "text": [
            "cuda()\n"
          ]
        }
      ],
      "source": [
        "device = needle.cuda()\n",
        "print(device)"
      ]
    },
    {
      "cell_type": "markdown",
      "metadata": {
        "id": "gdw7d_Qlwxie"
      },
      "source": [
        "#### **数据集 (CIFAR10Dataset)**"
      ]
    },
    {
      "cell_type": "code",
      "execution_count": 5,
      "metadata": {
        "id": "Ndf4_QFawxie"
      },
      "outputs": [],
      "source": [
        "import urllib.request\n",
        "import os\n",
        "\n",
        "!mkdir -p './data/ptb'\n",
        "\n",
        "# Download CIFAR-10 dataset\n",
        "if not os.path.isdir(\"./data/cifar-10-batches-py\"):\n",
        "    urllib.request.urlretrieve(\"https://www.cs.toronto.edu/~kriz/cifar-10-python.tar.gz\", \"./data/cifar-10-python.tar.gz\")\n",
        "    !tar -xvzf './data/cifar-10-python.tar.gz' -C './data'"
      ]
    },
    {
      "cell_type": "markdown",
      "metadata": {
        "id": "he2EjyPiwxie"
      },
      "source": [
        "#### **定义 DataLoader**"
      ]
    },
    {
      "cell_type": "code",
      "execution_count": 6,
      "metadata": {
        "execution": {
          "iopub.execute_input": "2024-04-19T10:42:09.821692Z",
          "iopub.status.busy": "2024-04-19T10:42:09.820698Z",
          "iopub.status.idle": "2024-04-19T10:42:09.827959Z",
          "shell.execute_reply": "2024-04-19T10:42:09.827020Z",
          "shell.execute_reply.started": "2024-04-19T10:42:09.821658Z"
        },
        "id": "P6HlM7zMwxif",
        "trusted": true
      },
      "outputs": [],
      "source": [
        "batch_size = 128\n",
        "\n",
        "train_dataset = needle.data.CIFAR10Dataset(\"data/cifar-10-batches-py\", train=True)\n",
        "test_dataset = needle.data.CIFAR10Dataset(\"data/cifar-10-batches-py\", train=False)\n",
        "\n",
        "train_loader = DataLoader(train_dataset, batch_size=batch_size, shuffle=True)\n",
        "test_loader = DataLoader(test_dataset, batch_size=batch_size, shuffle=False)"
      ]
    },
    {
      "cell_type": "markdown",
      "metadata": {
        "id": "iNqBQHIowxif"
      },
      "source": [
        "### 使用needle定义模型"
      ]
    },
    {
      "cell_type": "code",
      "execution_count": 7,
      "metadata": {
        "execution": {
          "iopub.execute_input": "2024-04-19T10:42:09.830063Z",
          "iopub.status.busy": "2024-04-19T10:42:09.829588Z",
          "iopub.status.idle": "2024-04-19T10:42:09.845040Z",
          "shell.execute_reply": "2024-04-19T10:42:09.843941Z",
          "shell.execute_reply.started": "2024-04-19T10:42:09.830031Z"
        },
        "id": "DcSoKlMmwxif",
        "trusted": true
      },
      "outputs": [],
      "source": [
        "class ConvBN(nn.Module):\n",
        "    def __init__(self, a, b, k, s, device=None, dtype=\"float32\") -> None:\n",
        "        self.a = a\n",
        "        self.b = b\n",
        "        self.k = k\n",
        "        self.s = s\n",
        "\n",
        "        self.conv2d = nn.Conv(a, b, k, s, device=device, dtype=dtype)\n",
        "        self.batch_norm = nn.BatchNorm2d(b, device=device, dtype=dtype)\n",
        "        self.relu = nn.ReLU()\n",
        "\n",
        "    def forward(self, x):\n",
        "        x = self.conv2d(x)\n",
        "        x = self.batch_norm(x)\n",
        "        return self.relu(x)\n",
        "\n",
        "\n",
        "## currently not implement pooling\n",
        "## replace pooling with striding\n",
        "class ResNet18(nn.Module):\n",
        "    def __init__(self, num_classes, device=None, dtype=\"float32\"):\n",
        "        super().__init__()\n",
        "        self.layer1 = nn.Sequential(\n",
        "            ConvBN(3, 64, 7, 4, device=device, dtype=dtype),\n",
        "            ConvBN(64, 128, 3, 2, device=device, dtype=dtype),\n",
        "        )\n",
        "        self.layer2 = nn.Sequential(\n",
        "            ConvBN(128, 128, 3, 1, device=device, dtype=dtype),\n",
        "            ConvBN(128, 128, 3, 1, device=device, dtype=dtype),\n",
        "        )\n",
        "        self.layer3 = nn.Sequential(\n",
        "            ConvBN(128, 256, 3, 2, device=device, dtype=dtype),\n",
        "            ConvBN(256, 512, 3, 2, device=device, dtype=dtype),\n",
        "        )\n",
        "        self.layer4 = nn.Sequential(\n",
        "            ConvBN(512, 512, 3, 1, device=device, dtype=dtype),\n",
        "            ConvBN(512, 512, 3, 1, device=device, dtype=dtype),\n",
        "        )\n",
        "        self.linear1 = nn.Linear(512, num_classes, device=device, dtype=dtype)\n",
        "\n",
        "    def forward(self, x):\n",
        "        x = self.layer1(x)\n",
        "        x = nn.Residual(self.layer2)(x)\n",
        "        x = self.layer3(x)\n",
        "        x = nn.Residual(self.layer4)(x)\n",
        "        x = nn.Flatten()(x)\n",
        "        x = self.linear1(x)\n",
        "        return x"
      ]
    },
    {
      "cell_type": "markdown",
      "metadata": {
        "id": "h5oIxvoAwxif"
      },
      "source": [
        "## 训练和测试\n",
        "\n",
        "### 超参数设置"
      ]
    },
    {
      "cell_type": "code",
      "execution_count": 8,
      "metadata": {
        "execution": {
          "iopub.execute_input": "2024-04-19T10:42:10.118508Z",
          "iopub.status.busy": "2024-04-19T10:42:10.118196Z",
          "iopub.status.idle": "2024-04-19T10:42:10.481811Z",
          "shell.execute_reply": "2024-04-19T10:42:10.480854Z",
          "shell.execute_reply.started": "2024-04-19T10:42:10.118476Z"
        },
        "id": "Odklsy0Iwxig",
        "trusted": true
      },
      "outputs": [],
      "source": [
        "num_classes = 10\n",
        "num_epochs = 10\n",
        "learning_rate = 1e-4\n",
        "\n",
        "model = ResNet18(num_classes=num_classes, device=device)\n",
        "\n",
        "criterion = nn.SoftmaxLoss()\n",
        "optimizer = needle.optim.Adam(model.parameters(), lr=learning_rate, weight_decay=1e-4)"
      ]
    },
    {
      "cell_type": "markdown",
      "metadata": {
        "id": "Amx4bZkYwxig"
      },
      "source": [
        "### 模型训练\n"
      ]
    },
    {
      "cell_type": "code",
      "execution_count": 9,
      "metadata": {
        "colab": {
          "base_uri": "https://localhost:8080/"
        },
        "execution": {
          "iopub.execute_input": "2024-04-19T10:42:10.483974Z",
          "iopub.status.busy": "2024-04-19T10:42:10.483593Z",
          "iopub.status.idle": "2024-04-19T13:10:35.099758Z",
          "shell.execute_reply": "2024-04-19T13:10:35.098794Z",
          "shell.execute_reply.started": "2024-04-19T10:42:10.483940Z"
        },
        "id": "XYS2VEdcwxih",
        "outputId": "577bfdf4-9007-4a73-c8ac-1a38577d2400",
        "trusted": true
      },
      "outputs": [
        {
          "name": "stderr",
          "output_type": "stream",
          "text": [
            "Train [1/10]: 391it [04:19,  1.51it/s, loss=1.43]\n"
          ]
        },
        {
          "name": "stdout",
          "output_type": "stream",
          "text": [
            "Epoch [1/10], Loss: 1.4338\n"
          ]
        },
        {
          "name": "stderr",
          "output_type": "stream",
          "text": [
            "Train [2/10]: 391it [04:21,  1.50it/s, loss=1.41]\n"
          ]
        },
        {
          "name": "stdout",
          "output_type": "stream",
          "text": [
            "Epoch [2/10], Loss: 1.4109\n"
          ]
        },
        {
          "name": "stderr",
          "output_type": "stream",
          "text": [
            "Train [3/10]: 391it [04:21,  1.50it/s, loss=1.18]\n"
          ]
        },
        {
          "name": "stdout",
          "output_type": "stream",
          "text": [
            "Epoch [3/10], Loss: 1.1813\n"
          ]
        },
        {
          "name": "stderr",
          "output_type": "stream",
          "text": [
            "Train [4/10]: 391it [04:20,  1.50it/s, loss=1.23]\n"
          ]
        },
        {
          "name": "stdout",
          "output_type": "stream",
          "text": [
            "Epoch [4/10], Loss: 1.2268\n"
          ]
        },
        {
          "name": "stderr",
          "output_type": "stream",
          "text": [
            "Train [5/10]: 391it [04:21,  1.50it/s, loss=0.771]\n"
          ]
        },
        {
          "name": "stdout",
          "output_type": "stream",
          "text": [
            "Epoch [5/10], Loss: 0.7709\n"
          ]
        },
        {
          "name": "stderr",
          "output_type": "stream",
          "text": [
            "Train [6/10]: 391it [04:21,  1.49it/s, loss=0.594]\n"
          ]
        },
        {
          "name": "stdout",
          "output_type": "stream",
          "text": [
            "Epoch [6/10], Loss: 0.5944\n"
          ]
        },
        {
          "name": "stderr",
          "output_type": "stream",
          "text": [
            "Train [7/10]: 391it [04:21,  1.50it/s, loss=0.364]\n"
          ]
        },
        {
          "name": "stdout",
          "output_type": "stream",
          "text": [
            "Epoch [7/10], Loss: 0.3638\n"
          ]
        },
        {
          "name": "stderr",
          "output_type": "stream",
          "text": [
            "Train [8/10]: 391it [04:21,  1.50it/s, loss=0.224]\n"
          ]
        },
        {
          "name": "stdout",
          "output_type": "stream",
          "text": [
            "Epoch [8/10], Loss: 0.2239\n"
          ]
        },
        {
          "name": "stderr",
          "output_type": "stream",
          "text": [
            "Train [9/10]: 391it [04:20,  1.50it/s, loss=0.148]\n"
          ]
        },
        {
          "name": "stdout",
          "output_type": "stream",
          "text": [
            "Epoch [9/10], Loss: 0.1476\n"
          ]
        },
        {
          "name": "stderr",
          "output_type": "stream",
          "text": [
            "Train [10/10]: 391it [04:20,  1.50it/s, loss=0.171]"
          ]
        },
        {
          "name": "stdout",
          "output_type": "stream",
          "text": [
            "Epoch [10/10], Loss: 0.1711\n"
          ]
        },
        {
          "name": "stderr",
          "output_type": "stream",
          "text": [
            "\n"
          ]
        }
      ],
      "source": [
        "import gc\n",
        "\n",
        "train_loss_lst = []\n",
        "\n",
        "model.train()\n",
        "for epoch in range(num_epochs):\n",
        "    with tqdm(train_loader, desc='Train [{}/{}]'.format(epoch+1, num_epochs), mininterval=1.0) as t:\n",
        "        for batch in t:\n",
        "            images, labels = batch[0].to(device), batch[1].to(device)\n",
        "\n",
        "            optimizer.reset_grad()\n",
        "            outputs = model(images)\n",
        "            loss = criterion(outputs, labels)\n",
        "            loss.backward()\n",
        "            optimizer.step()\n",
        "\n",
        "            train_loss_lst.append(loss.numpy().item())\n",
        "            t.set_postfix(loss=loss.numpy().item())\n",
        "            del images, labels, outputs\n",
        "            gc.collect()\n",
        "\n",
        "    print ('Epoch [{}/{}], Loss: {:.4f}'\n",
        "                   .format(epoch+1, num_epochs, loss.numpy().item()))"
      ]
    },
    {
      "cell_type": "markdown",
      "metadata": {
        "id": "I46l1Z4lwxih"
      },
      "source": [
        "### 训练损失曲线可视化\n"
      ]
    },
    {
      "cell_type": "code",
      "execution_count": 14,
      "metadata": {
        "execution": {
          "iopub.execute_input": "2024-04-19T13:10:35.101615Z",
          "iopub.status.busy": "2024-04-19T13:10:35.101225Z",
          "iopub.status.idle": "2024-04-19T13:10:35.111299Z",
          "shell.execute_reply": "2024-04-19T13:10:35.110255Z",
          "shell.execute_reply.started": "2024-04-19T13:10:35.101578Z"
        },
        "id": "9m7cQBIcwxih",
        "trusted": true
      },
      "outputs": [],
      "source": [
        "import matplotlib.pyplot as plt\n",
        "\n",
        "\n",
        "def learning_curve(train_loss_lst, num_epochs, _ylabel1='train loss', smooth_factor=10):\n",
        "    \"\"\"\n",
        "    Args:\n",
        "        smooth_factor: 平滑因子，只能取正整数。平滑因子越大，损失曲线越平滑\n",
        "    \"\"\"\n",
        "\n",
        "    assert smooth_factor > 0 and type(smooth_factor) == int\n",
        "\n",
        "    fig, ax1 = plt.subplots()\n",
        "    color = 'tab:blue'\n",
        "    ax1.set_xlabel('steps')\n",
        "    ax1.set_ylabel(_ylabel1, color=color)\n",
        "    train_loss_x = list(range(len(train_loss_lst)))\n",
        "    ax1.plot(train_loss_x[::smooth_factor], train_loss_lst[::smooth_factor], color=color)\n",
        "    ax1.tick_params(axis='y', labelcolor=color)\n",
        "\n",
        "    fig.tight_layout()\n",
        "    plt.show()\n"
      ]
    },
    {
      "cell_type": "code",
      "execution_count": 15,
      "metadata": {
        "colab": {
          "base_uri": "https://localhost:8080/",
          "height": 504
        },
        "execution": {
          "iopub.execute_input": "2024-04-19T13:10:35.112691Z",
          "iopub.status.busy": "2024-04-19T13:10:35.112416Z",
          "iopub.status.idle": "2024-04-19T13:10:35.574923Z",
          "shell.execute_reply": "2024-04-19T13:10:35.573975Z",
          "shell.execute_reply.started": "2024-04-19T13:10:35.112666Z"
        },
        "id": "KJjobnsJwxih",
        "outputId": "32ec61a2-4b35-4dc5-8ca1-42c2d1d0f094",
        "trusted": true
      },
      "outputs": [
        {
          "name": "stdout",
          "output_type": "stream",
          "text": [
            "========================= LEARNING CURVE =======================\n"
          ]
        },
        {
          "data": {
            "image/png": "[encoded data removed]",
            "text/plain": [
              "<Figure size 640x480 with 1 Axes>"
            ]
          },
          "metadata": {},
          "output_type": "display_data"
        }
      ],
      "source": [
        "print('========================= LEARNING CURVE =======================')\n",
        "learning_curve(train_loss_lst, num_epochs, smooth_factor=3)"
      ]
    },
    {
      "cell_type": "markdown",
      "metadata": {
        "id": "1m7_n6Otwxih"
      },
      "source": [
        "### 模型测试"
      ]
    },
    {
      "cell_type": "code",
      "execution_count": 20,
      "metadata": {
        "colab": {
          "base_uri": "https://localhost:8080/"
        },
        "id": "eD8vSORzCvth",
        "outputId": "35b95184-86e7-430f-ff26-a7574429f270"
      },
      "outputs": [
        {
          "name": "stderr",
          "output_type": "stream",
          "text": [
            "Test: 391it [00:26, 14.67it/s]"
          ]
        },
        {
          "name": "stdout",
          "output_type": "stream",
          "text": [
            "Accuracy of the network on the 50000 train images: 99.4540 %\n"
          ]
        },
        {
          "name": "stderr",
          "output_type": "stream",
          "text": [
            "\n"
          ]
        }
      ],
      "source": [
        "model.eval()\n",
        "correct = 0\n",
        "total = 0\n",
        "for images, labels in tqdm(train_loader, desc='Test', mininterval=1.0):\n",
        "    images = images.to(device)\n",
        "    labels = labels.to(device)\n",
        "    outputs = model(images)\n",
        "\n",
        "    pred = np.argmax(outputs.numpy(), axis=1)\n",
        "\n",
        "    total += labels.shape[0]\n",
        "    correct += (pred == labels.numpy()).sum().item()\n",
        "    del images, labels, outputs\n",
        "\n",
        "print('Accuracy of the network on the {} train images: {:.4f} %'.format(len(train_dataset), 100 * correct / total))"
      ]
    },
    {
      "cell_type": "code",
      "execution_count": 19,
      "metadata": {
        "colab": {
          "base_uri": "https://localhost:8080/"
        },
        "execution": {
          "iopub.execute_input": "2024-04-19T13:10:35.576636Z",
          "iopub.status.busy": "2024-04-19T13:10:35.576251Z",
          "iopub.status.idle": "2024-04-19T13:10:45.195691Z",
          "shell.execute_reply": "2024-04-19T13:10:45.194832Z",
          "shell.execute_reply.started": "2024-04-19T13:10:35.576601Z"
        },
        "id": "2s6Scny5wxih",
        "outputId": "ff7669c4-218e-4ebd-b859-318b5fbd682e",
        "trusted": true
      },
      "outputs": [
        {
          "name": "stderr",
          "output_type": "stream",
          "text": [
            "Test: 79it [00:05, 14.89it/s]"
          ]
        },
        {
          "name": "stdout",
          "output_type": "stream",
          "text": [
            "Accuracy of the network on the 10000 test images: 50.6800 %\n"
          ]
        },
        {
          "name": "stderr",
          "output_type": "stream",
          "text": [
            "\n"
          ]
        }
      ],
      "source": [
        "model.eval()\n",
        "correct = 0\n",
        "total = 0\n",
        "for images, labels in tqdm(test_loader, desc='Test', mininterval=1.0):\n",
        "    images = images.to(device)\n",
        "    labels = labels.to(device)\n",
        "    outputs = model(images)\n",
        "\n",
        "    pred = np.argmax(outputs.numpy(), axis=1)\n",
        "\n",
        "    total += labels.shape[0]\n",
        "    correct += (pred == labels.numpy()).sum().item()\n",
        "    del images, labels, outputs\n",
        "\n",
        "print('Accuracy of the network on the {} test images: {:.4f} %'.format(len(test_dataset), 100 * correct / total))"
      ]
    },
    {
      "cell_type": "code",
      "execution_count": null,
      "metadata": {
        "id": "zayx9uI-Bmhj"
      },
      "outputs": [],
      "source": []
    }
  ],
  "metadata": {
    "accelerator": "GPU",
    "colab": {
      "gpuType": "T4",
      "provenance": []
    },
    "kaggle": {
      "accelerator": "nvidiaTeslaT4",
      "dataSources": [
        {
          "datasetId": 59760,
          "sourceId": 840806,
          "sourceType": "datasetVersion"
        }
      ],
      "dockerImageVersionId": 30559,
      "isGpuEnabled": true,
      "isInternetEnabled": false,
      "language": "python",
      "sourceType": "notebook"
    },
    "kernelspec": {
      "display_name": "Python 3",
      "name": "python3"
    },
    "language_info": {
      "codemirror_mode": {
        "name": "ipython",
        "version": 3
      },
      "file_extension": ".py",
      "mimetype": "text/x-python",
      "name": "python",
      "nbconvert_exporter": "python",
      "pygments_lexer": "ipython3",
      "version": "3.10.12"
    }
  },
  "nbformat": 4,
  "nbformat_minor": 0
}
