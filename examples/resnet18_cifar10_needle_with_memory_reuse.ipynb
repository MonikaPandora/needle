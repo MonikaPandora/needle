{
  "cells": [
    {
      "cell_type": "markdown",
      "metadata": {
        "id": "BsMlGXDawxiZ"
      },
      "source": [
        "## setup"
      ]
    },
    {
      "cell_type": "code",
      "execution_count": 1,
      "metadata": {
        "id": "rC8Xlf5Swxib",
        "colab": {
          "base_uri": "https://localhost:8080/"
        },
        "outputId": "c0164b55-a859-4428-83a0-982f2d608546"
      },
      "outputs": [
        {
          "output_type": "stream",
          "name": "stdout",
          "text": [
            "Mounted at /content/drive\n",
            "/content/drive/MyDrive/needle\n",
            "Collecting pybind11\n",
            "  Downloading pybind11-2.12.0-py3-none-any.whl (234 kB)\n",
            "\u001b[2K     \u001b[90m━━━━━━━━━━━━━━━━━━━━━━━━━━━━━━━━━━━━━━━━\u001b[0m \u001b[32m235.0/235.0 kB\u001b[0m \u001b[31m6.4 MB/s\u001b[0m eta \u001b[36m0:00:00\u001b[0m\n",
            "\u001b[?25hInstalling collected packages: pybind11\n",
            "Successfully installed pybind11-2.12.0\n",
            "-- Found pybind11: /usr/local/lib/python3.10/dist-packages/pybind11/include (found version \"2.12.0\")\n",
            "-- Found cuda, building cuda backend\n",
            "Mon May 13 03:29:36 2024       \n",
            "+---------------------------------------------------------------------------------------+\n",
            "| NVIDIA-SMI 535.104.05             Driver Version: 535.104.05   CUDA Version: 12.2     |\n",
            "|-----------------------------------------+----------------------+----------------------+\n",
            "| GPU  Name                 Persistence-M | Bus-Id        Disp.A | Volatile Uncorr. ECC |\n",
            "| Fan  Temp   Perf          Pwr:Usage/Cap |         Memory-Usage | GPU-Util  Compute M. |\n",
            "|                                         |                      |               MIG M. |\n",
            "|=========================================+======================+======================|\n",
            "|   0  Tesla T4                       Off | 00000000:00:04.0 Off |                    0 |\n",
            "| N/A   51C    P8              10W /  70W |      0MiB / 15360MiB |      0%      Default |\n",
            "|                                         |                      |                  N/A |\n",
            "+-----------------------------------------+----------------------+----------------------+\n",
            "                                                                                         \n",
            "+---------------------------------------------------------------------------------------+\n",
            "| Processes:                                                                            |\n",
            "|  GPU   GI   CI        PID   Type   Process name                            GPU Memory |\n",
            "|        ID   ID                                                             Usage      |\n",
            "|=======================================================================================|\n",
            "|  No running processes found                                                           |\n",
            "+---------------------------------------------------------------------------------------+\n",
            "-- Autodetected CUDA architecture(s):  7.5\n",
            "-- Configuring done (3.0s)\n",
            "-- Generating done (5.7s)\n",
            "-- Build files have been written to: /content/drive/MyDrive/needle/build\n",
            "make[1]: Entering directory '/content/drive/MyDrive/needle/build'\n",
            "make[2]: Entering directory '/content/drive/MyDrive/needle/build'\n",
            "make[3]: Entering directory '/content/drive/MyDrive/needle/build'\n",
            "make[3]: Leaving directory '/content/drive/MyDrive/needle/build'\n",
            "make[3]: Entering directory '/content/drive/MyDrive/needle/build'\n",
            "[-25%] \u001b[32mBuilding CXX object CMakeFiles/ndarray_backend_cpu.dir/src/ndarray_backend_cpu.cc.o\u001b[0m\n",
            "[  0%] \u001b[32m\u001b[1mLinking CXX shared module /content/drive/MyDrive/needle/python/needle/backend_ndarray/ndarray_backend_cpu.cpython-310-x86_64-linux-gnu.so\u001b[0m\n",
            "make[3]: Leaving directory '/content/drive/MyDrive/needle/build'\n",
            "[  0%] Built target ndarray_backend_cpu\n",
            "make[3]: Entering directory '/content/drive/MyDrive/needle/build'\n",
            "[ 25%] \u001b[34m\u001b[1mBuilding NVCC (Device) object CMakeFiles/ndarray_backend_cuda.dir/src/ndarray_backend_cuda_generated_ndarray_backend_cuda.cu.o\u001b[0m\n",
            "make[3]: Leaving directory '/content/drive/MyDrive/needle/build'\n",
            "make[3]: Entering directory '/content/drive/MyDrive/needle/build'\n",
            "[ 50%] \u001b[32m\u001b[1mLinking CXX shared module /content/drive/MyDrive/needle/python/needle/backend_ndarray/ndarray_backend_cuda.cpython-310-x86_64-linux-gnu.so\u001b[0m\n",
            "make[3]: Leaving directory '/content/drive/MyDrive/needle/build'\n",
            "[ 50%] Built target ndarray_backend_cuda\n",
            "make[2]: Leaving directory '/content/drive/MyDrive/needle/build'\n",
            "make[1]: Leaving directory '/content/drive/MyDrive/needle/build'\n"
          ]
        }
      ],
      "source": [
        "from google.colab import drive\n",
        "drive.mount('/content/drive')\n",
        "%cd /content/drive/MyDrive/needle\n",
        "!pip install pybind11\n",
        "!make"
      ]
    },
    {
      "cell_type": "code",
      "execution_count": 2,
      "metadata": {
        "id": "9Ic-q5lVwxid",
        "colab": {
          "base_uri": "https://localhost:8080/"
        },
        "outputId": "52eb0e8e-187c-45d1-d74e-c97aefecb96a"
      },
      "outputs": [
        {
          "output_type": "stream",
          "name": "stdout",
          "text": [
            "env: PYTHONPATH=./python\n",
            "env: NEEDLE_BACKEND=nd\n"
          ]
        }
      ],
      "source": [
        "%set_env PYTHONPATH ./python\n",
        "%set_env NEEDLE_BACKEND nd\n",
        "\n",
        "import sys\n",
        "sys.path.append('./python')"
      ]
    },
    {
      "cell_type": "code",
      "execution_count": 3,
      "metadata": {
        "execution": {
          "iopub.execute_input": "2024-04-19T10:42:01.871399Z",
          "iopub.status.busy": "2024-04-19T10:42:01.871008Z",
          "iopub.status.idle": "2024-04-19T10:42:06.004529Z",
          "shell.execute_reply": "2024-04-19T10:42:06.003391Z",
          "shell.execute_reply.started": "2024-04-19T10:42:01.871358Z"
        },
        "trusted": true,
        "id": "ZvQLD84zwxid",
        "colab": {
          "base_uri": "https://localhost:8080/"
        },
        "outputId": "a8121083-979d-4db4-db80-93266f7c2a86"
      },
      "outputs": [
        {
          "output_type": "stream",
          "name": "stdout",
          "text": [
            "Using needle backend\n"
          ]
        }
      ],
      "source": [
        "import numpy as np\n",
        "import needle\n",
        "import needle.nn as nn\n",
        "from needle.data import Dataset, DataLoader\n",
        "import glob\n",
        "import random\n",
        "from tqdm import tqdm"
      ]
    },
    {
      "cell_type": "markdown",
      "metadata": {
        "id": "7eQYKkqmwxid"
      },
      "source": [
        "## 使用cuda作为NDArray的后端"
      ]
    },
    {
      "cell_type": "code",
      "execution_count": 4,
      "metadata": {
        "execution": {
          "iopub.execute_input": "2024-04-19T10:42:06.040521Z",
          "iopub.status.busy": "2024-04-19T10:42:06.040188Z",
          "iopub.status.idle": "2024-04-19T10:42:06.138458Z",
          "shell.execute_reply": "2024-04-19T10:42:06.137439Z",
          "shell.execute_reply.started": "2024-04-19T10:42:06.040487Z"
        },
        "trusted": true,
        "id": "HK5MlVI2wxie",
        "colab": {
          "base_uri": "https://localhost:8080/"
        },
        "outputId": "3b682e24-119b-4bc9-ba1e-2d359af39ec5"
      },
      "outputs": [
        {
          "output_type": "stream",
          "name": "stdout",
          "text": [
            "cuda()\n"
          ]
        }
      ],
      "source": [
        "device = needle.cuda()\n",
        "print(device)"
      ]
    },
    {
      "cell_type": "markdown",
      "metadata": {
        "id": "gdw7d_Qlwxie"
      },
      "source": [
        "#### **数据集 (CIFAR10Dataset)**"
      ]
    },
    {
      "cell_type": "code",
      "execution_count": 5,
      "metadata": {
        "id": "Ndf4_QFawxie"
      },
      "outputs": [],
      "source": [
        "import urllib.request\n",
        "import os\n",
        "\n",
        "!mkdir -p './data/ptb'\n",
        "\n",
        "# Download CIFAR-10 dataset\n",
        "if not os.path.isdir(\"./data/cifar-10-batches-py\"):\n",
        "    urllib.request.urlretrieve(\"https://www.cs.toronto.edu/~kriz/cifar-10-python.tar.gz\", \"./data/cifar-10-python.tar.gz\")\n",
        "    !tar -xvzf './data/cifar-10-python.tar.gz' -C './data'"
      ]
    },
    {
      "cell_type": "markdown",
      "metadata": {
        "id": "he2EjyPiwxie"
      },
      "source": [
        "#### **定义 DataLoader**"
      ]
    },
    {
      "cell_type": "code",
      "execution_count": 6,
      "metadata": {
        "execution": {
          "iopub.execute_input": "2024-04-19T10:42:09.821692Z",
          "iopub.status.busy": "2024-04-19T10:42:09.820698Z",
          "iopub.status.idle": "2024-04-19T10:42:09.827959Z",
          "shell.execute_reply": "2024-04-19T10:42:09.827020Z",
          "shell.execute_reply.started": "2024-04-19T10:42:09.821658Z"
        },
        "trusted": true,
        "id": "P6HlM7zMwxif"
      },
      "outputs": [],
      "source": [
        "batch_size = 128\n",
        "\n",
        "train_dataset = needle.data.CIFAR10Dataset(\"data/cifar-10-batches-py\", train=True)\n",
        "test_dataset = needle.data.CIFAR10Dataset(\"data/cifar-10-batches-py\", train=False)\n",
        "\n",
        "train_loader = DataLoader(train_dataset, batch_size=batch_size, shuffle=True)\n",
        "test_loader = DataLoader(test_dataset, batch_size=batch_size, shuffle=False)"
      ]
    },
    {
      "cell_type": "markdown",
      "metadata": {
        "id": "iNqBQHIowxif"
      },
      "source": [
        "### 使用needle定义模型"
      ]
    },
    {
      "cell_type": "code",
      "execution_count": 7,
      "metadata": {
        "execution": {
          "iopub.execute_input": "2024-04-19T10:42:09.830063Z",
          "iopub.status.busy": "2024-04-19T10:42:09.829588Z",
          "iopub.status.idle": "2024-04-19T10:42:09.845040Z",
          "shell.execute_reply": "2024-04-19T10:42:09.843941Z",
          "shell.execute_reply.started": "2024-04-19T10:42:09.830031Z"
        },
        "trusted": true,
        "id": "DcSoKlMmwxif"
      },
      "outputs": [],
      "source": [
        "class ConvBN(nn.Module):\n",
        "    def __init__(self, a, b, k, s, device=None, dtype=\"float32\") -> None:\n",
        "        self.a = a\n",
        "        self.b = b\n",
        "        self.k = k\n",
        "        self.s = s\n",
        "\n",
        "        self.conv2d = nn.Conv(a, b, k, s, device=device, dtype=dtype)\n",
        "        self.batch_norm = nn.BatchNorm2d(b, device=device, dtype=dtype)\n",
        "        self.relu = nn.ReLU()\n",
        "\n",
        "    def forward(self, x):\n",
        "        x = self.conv2d(x)\n",
        "        x = self.batch_norm(x)\n",
        "        return self.relu(x)\n",
        "\n",
        "\n",
        "## currently not implement pooling\n",
        "## replace pooling with striding\n",
        "class ResNet18(nn.Module):\n",
        "    def __init__(self, num_classes, device=None, dtype=\"float32\"):\n",
        "        super().__init__()\n",
        "        self.layer1 = nn.Sequential(\n",
        "            ConvBN(3, 64, 7, 4, device=device, dtype=dtype),\n",
        "            ConvBN(64, 128, 3, 2, device=device, dtype=dtype),\n",
        "        )\n",
        "        self.layer2 = nn.Sequential(\n",
        "            ConvBN(128, 128, 3, 1, device=device, dtype=dtype),\n",
        "            ConvBN(128, 128, 3, 1, device=device, dtype=dtype),\n",
        "        )\n",
        "        self.layer3 = nn.Sequential(\n",
        "            ConvBN(128, 256, 3, 2, device=device, dtype=dtype),\n",
        "            ConvBN(256, 512, 3, 2, device=device, dtype=dtype),\n",
        "        )\n",
        "        self.layer4 = nn.Sequential(\n",
        "            ConvBN(512, 512, 3, 1, device=device, dtype=dtype),\n",
        "            ConvBN(512, 512, 3, 1, device=device, dtype=dtype),\n",
        "        )\n",
        "        self.linear1 = nn.Linear(512, num_classes, device=device, dtype=dtype)\n",
        "\n",
        "    def forward(self, x):\n",
        "        x = self.layer1(x)\n",
        "        x = nn.Residual(self.layer2)(x)\n",
        "        x = self.layer3(x)\n",
        "        x = nn.Residual(self.layer4)(x)\n",
        "        x = nn.Flatten()(x)\n",
        "        x = self.linear1(x)\n",
        "        return x"
      ]
    },
    {
      "cell_type": "markdown",
      "metadata": {
        "id": "h5oIxvoAwxif"
      },
      "source": [
        "## 训练和测试\n",
        "\n",
        "### 超参数设置"
      ]
    },
    {
      "cell_type": "code",
      "execution_count": 8,
      "metadata": {
        "execution": {
          "iopub.execute_input": "2024-04-19T10:42:10.118508Z",
          "iopub.status.busy": "2024-04-19T10:42:10.118196Z",
          "iopub.status.idle": "2024-04-19T10:42:10.481811Z",
          "shell.execute_reply": "2024-04-19T10:42:10.480854Z",
          "shell.execute_reply.started": "2024-04-19T10:42:10.118476Z"
        },
        "trusted": true,
        "id": "Odklsy0Iwxig"
      },
      "outputs": [],
      "source": [
        "num_classes = 10\n",
        "num_epochs = 10\n",
        "learning_rate = 1e-4\n",
        "\n",
        "model = ResNet18(num_classes=num_classes, device=device)\n",
        "\n",
        "criterion = nn.SoftmaxLoss()\n",
        "optimizer = needle.optim.Adam(model.parameters(), lr=learning_rate, weight_decay=1e-4)"
      ]
    },
    {
      "cell_type": "markdown",
      "metadata": {
        "id": "Amx4bZkYwxig"
      },
      "source": [
        "### 模型训练\n"
      ]
    },
    {
      "cell_type": "code",
      "execution_count": 9,
      "metadata": {
        "execution": {
          "iopub.execute_input": "2024-04-19T10:42:10.483974Z",
          "iopub.status.busy": "2024-04-19T10:42:10.483593Z",
          "iopub.status.idle": "2024-04-19T13:10:35.099758Z",
          "shell.execute_reply": "2024-04-19T13:10:35.098794Z",
          "shell.execute_reply.started": "2024-04-19T10:42:10.483940Z"
        },
        "trusted": true,
        "colab": {
          "base_uri": "https://localhost:8080/"
        },
        "id": "XYS2VEdcwxih",
        "outputId": "c2b17062-a3d7-4f10-9c0c-ed40b968d6c4"
      },
      "outputs": [
        {
          "output_type": "stream",
          "name": "stderr",
          "text": [
            "Train [1/10]: 391it [02:20,  2.79it/s, loss=1.53]\n"
          ]
        },
        {
          "output_type": "stream",
          "name": "stdout",
          "text": [
            "Epoch [1/10], Loss: 1.5276\n"
          ]
        },
        {
          "output_type": "stream",
          "name": "stderr",
          "text": [
            "Train [2/10]: 391it [02:19,  2.80it/s, loss=1.21]\n"
          ]
        },
        {
          "output_type": "stream",
          "name": "stdout",
          "text": [
            "Epoch [2/10], Loss: 1.2056\n"
          ]
        },
        {
          "output_type": "stream",
          "name": "stderr",
          "text": [
            "Train [3/10]: 391it [02:19,  2.79it/s, loss=1.35]\n"
          ]
        },
        {
          "output_type": "stream",
          "name": "stdout",
          "text": [
            "Epoch [3/10], Loss: 1.3521\n"
          ]
        },
        {
          "output_type": "stream",
          "name": "stderr",
          "text": [
            "Train [4/10]: 391it [02:20,  2.79it/s, loss=0.936]\n"
          ]
        },
        {
          "output_type": "stream",
          "name": "stdout",
          "text": [
            "Epoch [4/10], Loss: 0.9355\n"
          ]
        },
        {
          "output_type": "stream",
          "name": "stderr",
          "text": [
            "Train [5/10]: 391it [02:19,  2.81it/s, loss=0.658]\n"
          ]
        },
        {
          "output_type": "stream",
          "name": "stdout",
          "text": [
            "Epoch [5/10], Loss: 0.6576\n"
          ]
        },
        {
          "output_type": "stream",
          "name": "stderr",
          "text": [
            "Train [6/10]: 391it [02:19,  2.80it/s, loss=0.513]\n"
          ]
        },
        {
          "output_type": "stream",
          "name": "stdout",
          "text": [
            "Epoch [6/10], Loss: 0.5132\n"
          ]
        },
        {
          "output_type": "stream",
          "name": "stderr",
          "text": [
            "Train [7/10]: 391it [02:19,  2.80it/s, loss=0.324]\n"
          ]
        },
        {
          "output_type": "stream",
          "name": "stdout",
          "text": [
            "Epoch [7/10], Loss: 0.3241\n"
          ]
        },
        {
          "output_type": "stream",
          "name": "stderr",
          "text": [
            "Train [8/10]: 391it [02:20,  2.78it/s, loss=0.197]\n"
          ]
        },
        {
          "output_type": "stream",
          "name": "stdout",
          "text": [
            "Epoch [8/10], Loss: 0.1974\n"
          ]
        },
        {
          "output_type": "stream",
          "name": "stderr",
          "text": [
            "Train [9/10]: 391it [02:19,  2.80it/s, loss=0.161]\n"
          ]
        },
        {
          "output_type": "stream",
          "name": "stdout",
          "text": [
            "Epoch [9/10], Loss: 0.1608\n"
          ]
        },
        {
          "output_type": "stream",
          "name": "stderr",
          "text": [
            "Train [10/10]: 391it [02:19,  2.80it/s, loss=0.17]"
          ]
        },
        {
          "output_type": "stream",
          "name": "stdout",
          "text": [
            "Epoch [10/10], Loss: 0.1700\n"
          ]
        },
        {
          "output_type": "stream",
          "name": "stderr",
          "text": [
            "\n"
          ]
        }
      ],
      "source": [
        "import gc\n",
        "\n",
        "train_loss_lst = []\n",
        "\n",
        "model.train()\n",
        "for epoch in range(num_epochs):\n",
        "    with tqdm(train_loader, desc='Train [{}/{}]'.format(epoch+1, num_epochs), mininterval=1.0) as t:\n",
        "        for batch in t:\n",
        "            images, labels = batch[0].to(device), batch[1].to(device)\n",
        "\n",
        "            optimizer.reset_grad()\n",
        "            outputs = model(images)\n",
        "            loss = criterion(outputs, labels)\n",
        "            loss.backward()\n",
        "            optimizer.step()\n",
        "\n",
        "            train_loss_lst.append(loss.numpy().item())\n",
        "            t.set_postfix(loss=loss.numpy().item())\n",
        "            del images, labels, outputs\n",
        "            gc.collect()\n",
        "\n",
        "    print ('Epoch [{}/{}], Loss: {:.4f}'\n",
        "                   .format(epoch+1, num_epochs, loss.numpy().item()))"
      ]
    },
    {
      "cell_type": "markdown",
      "metadata": {
        "id": "I46l1Z4lwxih"
      },
      "source": [
        "### 训练损失曲线可视化\n"
      ]
    },
    {
      "cell_type": "code",
      "execution_count": 10,
      "metadata": {
        "execution": {
          "iopub.execute_input": "2024-04-19T13:10:35.101615Z",
          "iopub.status.busy": "2024-04-19T13:10:35.101225Z",
          "iopub.status.idle": "2024-04-19T13:10:35.111299Z",
          "shell.execute_reply": "2024-04-19T13:10:35.110255Z",
          "shell.execute_reply.started": "2024-04-19T13:10:35.101578Z"
        },
        "trusted": true,
        "id": "9m7cQBIcwxih"
      },
      "outputs": [],
      "source": [
        "import matplotlib.pyplot as plt\n",
        "\n",
        "\n",
        "def learning_curve(train_loss_lst, num_epochs, _ylabel1='train loss', smooth_factor=10):\n",
        "    \"\"\"\n",
        "    Args:\n",
        "        smooth_factor: 平滑因子，只能取正整数。平滑因子越大，损失曲线越平滑\n",
        "    \"\"\"\n",
        "\n",
        "    assert smooth_factor > 0 and type(smooth_factor) == int\n",
        "\n",
        "    fig, ax1 = plt.subplots()\n",
        "    color = 'tab:blue'\n",
        "    ax1.set_xlabel('steps')\n",
        "    ax1.set_ylabel(_ylabel1, color=color)\n",
        "    train_loss_x = list(range(len(train_loss_lst)))\n",
        "    ax1.plot(train_loss_x[::smooth_factor], train_loss_lst[::smooth_factor], color=color)\n",
        "    ax1.tick_params(axis='y', labelcolor=color)\n",
        "\n",
        "    fig.tight_layout()\n",
        "    plt.show()\n"
      ]
    },
    {
      "cell_type": "code",
      "execution_count": 11,
      "metadata": {
        "execution": {
          "iopub.execute_input": "2024-04-19T13:10:35.112691Z",
          "iopub.status.busy": "2024-04-19T13:10:35.112416Z",
          "iopub.status.idle": "2024-04-19T13:10:35.574923Z",
          "shell.execute_reply": "2024-04-19T13:10:35.573975Z",
          "shell.execute_reply.started": "2024-04-19T13:10:35.112666Z"
        },
        "trusted": true,
        "id": "KJjobnsJwxih",
        "colab": {
          "base_uri": "https://localhost:8080/",
          "height": 505
        },
        "outputId": "2ba82ed2-47e3-4981-d557-e11b02eba143"
      },
      "outputs": [
        {
          "output_type": "stream",
          "name": "stdout",
          "text": [
            "========================= LEARNING CURVE =======================\n"
          ]
        },
        {
          "output_type": "display_data",
          "data": {
            "text/plain": [
              "<Figure size 640x480 with 1 Axes>"
            ],
            "image/png": "[encoded data removed]"
          },
          "metadata": {}
        }
      ],
      "source": [
        "print('========================= LEARNING CURVE =======================')\n",
        "learning_curve(train_loss_lst, num_epochs, smooth_factor=3)"
      ]
    },
    {
      "cell_type": "markdown",
      "metadata": {
        "id": "1m7_n6Otwxih"
      },
      "source": [
        "### 模型测试"
      ]
    },
    {
      "cell_type": "code",
      "source": [
        "model.eval()\n",
        "correct = 0\n",
        "total = 0\n",
        "for images, labels in tqdm(train_loader, desc='Test', mininterval=1.0):\n",
        "    images = images.to(device)\n",
        "    labels = labels.to(device)\n",
        "    outputs = model(images)\n",
        "\n",
        "    pred = np.argmax(outputs.numpy(), axis=1)\n",
        "\n",
        "    total += labels.shape[0]\n",
        "    correct += (pred == labels.numpy()).sum().item()\n",
        "    del images, labels, outputs\n",
        "\n",
        "print('Accuracy of the network on the {} train images: {:.4f} %'.format(len(train_dataset), 100 * correct / total))"
      ],
      "metadata": {
        "colab": {
          "base_uri": "https://localhost:8080/"
        },
        "id": "eD8vSORzCvth",
        "outputId": "9360a25a-5846-4962-dbe0-b20b6a7a246b"
      },
      "execution_count": 12,
      "outputs": [
        {
          "output_type": "stream",
          "name": "stderr",
          "text": [
            "Test: 391it [00:20, 18.67it/s]"
          ]
        },
        {
          "output_type": "stream",
          "name": "stdout",
          "text": [
            "Accuracy of the network on the 50000 train images: 99.2600 %\n"
          ]
        },
        {
          "output_type": "stream",
          "name": "stderr",
          "text": [
            "\n"
          ]
        }
      ]
    },
    {
      "cell_type": "code",
      "execution_count": 13,
      "metadata": {
        "execution": {
          "iopub.execute_input": "2024-04-19T13:10:35.576636Z",
          "iopub.status.busy": "2024-04-19T13:10:35.576251Z",
          "iopub.status.idle": "2024-04-19T13:10:45.195691Z",
          "shell.execute_reply": "2024-04-19T13:10:45.194832Z",
          "shell.execute_reply.started": "2024-04-19T13:10:35.576601Z"
        },
        "trusted": true,
        "id": "2s6Scny5wxih",
        "colab": {
          "base_uri": "https://localhost:8080/"
        },
        "outputId": "b54819a6-0fee-4704-c2d1-798e876e4d79"
      },
      "outputs": [
        {
          "output_type": "stream",
          "name": "stderr",
          "text": [
            "Test: 79it [00:04, 18.79it/s]"
          ]
        },
        {
          "output_type": "stream",
          "name": "stdout",
          "text": [
            "Accuracy of the network on the 10000 test images: 49.1500 %\n"
          ]
        },
        {
          "output_type": "stream",
          "name": "stderr",
          "text": [
            "\n"
          ]
        }
      ],
      "source": [
        "model.eval()\n",
        "correct = 0\n",
        "total = 0\n",
        "for images, labels in tqdm(test_loader, desc='Test', mininterval=1.0):\n",
        "    images = images.to(device)\n",
        "    labels = labels.to(device)\n",
        "    outputs = model(images)\n",
        "\n",
        "    pred = np.argmax(outputs.numpy(), axis=1)\n",
        "\n",
        "    total += labels.shape[0]\n",
        "    correct += (pred == labels.numpy()).sum().item()\n",
        "    del images, labels, outputs\n",
        "\n",
        "print('Accuracy of the network on the {} test images: {:.4f} %'.format(len(test_dataset), 100 * correct / total))"
      ]
    },
    {
      "cell_type": "code",
      "source": [],
      "metadata": {
        "id": "zayx9uI-Bmhj"
      },
      "execution_count": null,
      "outputs": []
    }
  ],
  "metadata": {
    "kaggle": {
      "accelerator": "nvidiaTeslaT4",
      "dataSources": [
        {
          "datasetId": 59760,
          "sourceId": 840806,
          "sourceType": "datasetVersion"
        }
      ],
      "dockerImageVersionId": 30559,
      "isGpuEnabled": true,
      "isInternetEnabled": false,
      "language": "python",
      "sourceType": "notebook"
    },
    "kernelspec": {
      "display_name": "Python 3",
      "name": "python3"
    },
    "language_info": {
      "codemirror_mode": {
        "name": "ipython",
        "version": 3
      },
      "file_extension": ".py",
      "mimetype": "text/x-python",
      "name": "python",
      "nbconvert_exporter": "python",
      "pygments_lexer": "ipython3",
      "version": "3.10.12"
    },
    "colab": {
      "provenance": [],
      "gpuType": "T4"
    },
    "accelerator": "GPU"
  },
  "nbformat": 4,
  "nbformat_minor": 0
}